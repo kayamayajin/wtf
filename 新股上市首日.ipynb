{
 "cells": [
  {
   "cell_type": "code",
   "execution_count": 1,
   "metadata": {},
   "outputs": [
    {
     "name": "stdout",
     "output_type": "stream",
     "text": [
      "提示：当前环境pandas版本为0.25，get_price与get_fundamentals_continuously接口panel参数将固定为False\n",
      "注意：0.25以上版本pandas不支持panel，如使用该数据结构和相关函数请注意修改\n",
      "auth success \n"
     ]
    }
   ],
   "source": [
    "import pandas as pd\n",
    "import numpy as np\n",
    "from jqdatasdk import *\n",
    "auth('15566918488','Shuiguo123')\n",
    "\n",
    "import math"
   ]
  },
  {
   "cell_type": "code",
   "execution_count": 96,
   "metadata": {},
   "outputs": [
    {
     "data": {
      "text/html": [
       "<div>\n",
       "<style scoped>\n",
       "    .dataframe tbody tr th:only-of-type {\n",
       "        vertical-align: middle;\n",
       "    }\n",
       "\n",
       "    .dataframe tbody tr th {\n",
       "        vertical-align: top;\n",
       "    }\n",
       "\n",
       "    .dataframe thead th {\n",
       "        text-align: right;\n",
       "    }\n",
       "</style>\n",
       "<table border=\"1\" class=\"dataframe\">\n",
       "  <thead>\n",
       "    <tr style=\"text-align: right;\">\n",
       "      <th></th>\n",
       "      <th>display_name</th>\n",
       "      <th>name</th>\n",
       "      <th>start_date</th>\n",
       "      <th>end_date</th>\n",
       "      <th>type</th>\n",
       "    </tr>\n",
       "  </thead>\n",
       "  <tbody>\n",
       "    <tr>\n",
       "      <th>000001.XSHE</th>\n",
       "      <td>平安银行</td>\n",
       "      <td>PAYX</td>\n",
       "      <td>1991-04-03</td>\n",
       "      <td>2200-01-01</td>\n",
       "      <td>stock</td>\n",
       "    </tr>\n",
       "    <tr>\n",
       "      <th>000002.XSHE</th>\n",
       "      <td>万科A</td>\n",
       "      <td>WKA</td>\n",
       "      <td>1991-01-29</td>\n",
       "      <td>2200-01-01</td>\n",
       "      <td>stock</td>\n",
       "    </tr>\n",
       "    <tr>\n",
       "      <th>000004.XSHE</th>\n",
       "      <td>国农科技</td>\n",
       "      <td>GNKJ</td>\n",
       "      <td>1990-12-01</td>\n",
       "      <td>2200-01-01</td>\n",
       "      <td>stock</td>\n",
       "    </tr>\n",
       "    <tr>\n",
       "      <th>000005.XSHE</th>\n",
       "      <td>世纪星源</td>\n",
       "      <td>SJXY</td>\n",
       "      <td>1990-12-10</td>\n",
       "      <td>2200-01-01</td>\n",
       "      <td>stock</td>\n",
       "    </tr>\n",
       "    <tr>\n",
       "      <th>000006.XSHE</th>\n",
       "      <td>深振业A</td>\n",
       "      <td>SZYA</td>\n",
       "      <td>1992-04-27</td>\n",
       "      <td>2200-01-01</td>\n",
       "      <td>stock</td>\n",
       "    </tr>\n",
       "    <tr>\n",
       "      <th>...</th>\n",
       "      <td>...</td>\n",
       "      <td>...</td>\n",
       "      <td>...</td>\n",
       "      <td>...</td>\n",
       "      <td>...</td>\n",
       "    </tr>\n",
       "    <tr>\n",
       "      <th>688596.XSHG</th>\n",
       "      <td>正帆科技</td>\n",
       "      <td>ZFKJ</td>\n",
       "      <td>2020-08-20</td>\n",
       "      <td>2200-01-01</td>\n",
       "      <td>stock</td>\n",
       "    </tr>\n",
       "    <tr>\n",
       "      <th>688598.XSHG</th>\n",
       "      <td>金博股份</td>\n",
       "      <td>JBGF</td>\n",
       "      <td>2020-05-18</td>\n",
       "      <td>2200-01-01</td>\n",
       "      <td>stock</td>\n",
       "    </tr>\n",
       "    <tr>\n",
       "      <th>688599.XSHG</th>\n",
       "      <td>天合光能</td>\n",
       "      <td>THGN</td>\n",
       "      <td>2020-06-10</td>\n",
       "      <td>2200-01-01</td>\n",
       "      <td>stock</td>\n",
       "    </tr>\n",
       "    <tr>\n",
       "      <th>688600.XSHG</th>\n",
       "      <td>皖仪科技</td>\n",
       "      <td>WYKJ</td>\n",
       "      <td>2020-07-03</td>\n",
       "      <td>2200-01-01</td>\n",
       "      <td>stock</td>\n",
       "    </tr>\n",
       "    <tr>\n",
       "      <th>688981.XSHG</th>\n",
       "      <td>中芯国际</td>\n",
       "      <td>ZXGJ</td>\n",
       "      <td>2020-07-16</td>\n",
       "      <td>2200-01-01</td>\n",
       "      <td>stock</td>\n",
       "    </tr>\n",
       "  </tbody>\n",
       "</table>\n",
       "<p>4127 rows × 5 columns</p>\n",
       "</div>"
      ],
      "text/plain": [
       "            display_name  name start_date   end_date   type\n",
       "000001.XSHE         平安银行  PAYX 1991-04-03 2200-01-01  stock\n",
       "000002.XSHE          万科A   WKA 1991-01-29 2200-01-01  stock\n",
       "000004.XSHE         国农科技  GNKJ 1990-12-01 2200-01-01  stock\n",
       "000005.XSHE         世纪星源  SJXY 1990-12-10 2200-01-01  stock\n",
       "000006.XSHE         深振业A  SZYA 1992-04-27 2200-01-01  stock\n",
       "...                  ...   ...        ...        ...    ...\n",
       "688596.XSHG         正帆科技  ZFKJ 2020-08-20 2200-01-01  stock\n",
       "688598.XSHG         金博股份  JBGF 2020-05-18 2200-01-01  stock\n",
       "688599.XSHG         天合光能  THGN 2020-06-10 2200-01-01  stock\n",
       "688600.XSHG         皖仪科技  WYKJ 2020-07-03 2200-01-01  stock\n",
       "688981.XSHG         中芯国际  ZXGJ 2020-07-16 2200-01-01  stock\n",
       "\n",
       "[4127 rows x 5 columns]"
      ]
     },
     "execution_count": 96,
     "metadata": {},
     "output_type": "execute_result"
    }
   ],
   "source": [
    "df = get_all_securities(types=['stock'])\n",
    "df"
   ]
  },
  {
   "cell_type": "code",
   "execution_count": 98,
   "metadata": {},
   "outputs": [
    {
     "name": "stdout",
     "output_type": "stream",
     "text": [
      "over\n"
     ]
    }
   ],
   "source": [
    "df['code'] = df.index.str[:6]\n",
    "#df['科创板'] = df['code'].apply(lambda x: 1 if int(x) > 688000 else 0)\n",
    "df['深圳'] = df['code'].apply(lambda x: 1 if int(x) < 600000 else 0)\n",
    "df = df.drop(df[df['深圳'] == 1 ].index)\n",
    "\n",
    "\n",
    "df1 = df[df.start_date > '2020-03-01']\n",
    "#df1.to_excel('/Users/kayamayajin/Desktop/output.xlsx')\n",
    "print('over')"
   ]
  },
  {
   "cell_type": "code",
   "execution_count": 99,
   "metadata": {},
   "outputs": [
    {
     "name": "stdout",
     "output_type": "stream",
     "text": [
      "over\n"
     ]
    },
    {
     "name": "stderr",
     "output_type": "stream",
     "text": [
      "/Users/kayamayajin/opt/anaconda3/lib/python3.7/site-packages/ipykernel_launcher.py:1: SettingWithCopyWarning: \n",
      "A value is trying to be set on a copy of a slice from a DataFrame.\n",
      "Try using .loc[row_indexer,col_indexer] = value instead\n",
      "\n",
      "See the caveats in the documentation: http://pandas.pydata.org/pandas-docs/stable/user_guide/indexing.html#returning-a-view-versus-a-copy\n",
      "  \"\"\"Entry point for launching an IPython kernel.\n"
     ]
    }
   ],
   "source": [
    "df1['CODE'] = df1.index\n",
    "df1.drop(['end_date'],axis=1,inplace = True)\n",
    "df1.drop(['type'],axis=1,inplace = True)\n",
    "print('over')"
   ]
  },
  {
   "cell_type": "code",
   "execution_count": null,
   "metadata": {},
   "outputs": [],
   "source": []
  },
  {
   "cell_type": "code",
   "execution_count": 71,
   "metadata": {},
   "outputs": [],
   "source": [
    "def open(a,b):\n",
    "    p = get_price(a, start_date=b, end_date=b, frequency='daily', fields=None, skip_paused=False, fq='pre', panel=True).iloc[0,0]\n",
    "    return(p)\n",
    "\n",
    "def close(a,b):\n",
    "    p = get_price(a, start_date=b, end_date=b, frequency='daily', fields=None, skip_paused=False, fq='pre', panel=True).iloc[0,1]\n",
    "    return(p)\n",
    "\n",
    "def high(a,b):\n",
    "    p = get_price(a, start_date=b, end_date=b, frequency='daily', fields=None, skip_paused=False, fq='pre', panel=True).iloc[0,2]\n",
    "    return(p)\n",
    "\n",
    "def low(a,b):\n",
    "    p = get_price(a, start_date=b, end_date=b, frequency='daily', fields=None, skip_paused=False, fq='pre', panel=True).iloc[0,3]\n",
    "    return(p)\n",
    "\n",
    "\n"
   ]
  },
  {
   "cell_type": "code",
   "execution_count": 65,
   "metadata": {},
   "outputs": [
    {
     "data": {
      "text/plain": [
       "95.0"
      ]
     },
     "execution_count": 65,
     "metadata": {},
     "output_type": "execute_result"
    }
   ],
   "source": [
    "open('688981.XSHG','2020-07-16')"
   ]
  },
  {
   "cell_type": "code",
   "execution_count": 103,
   "metadata": {},
   "outputs": [
    {
     "name": "stderr",
     "output_type": "stream",
     "text": [
      "/Users/kayamayajin/opt/anaconda3/lib/python3.7/site-packages/ipykernel_launcher.py:1: SettingWithCopyWarning: \n",
      "A value is trying to be set on a copy of a slice from a DataFrame.\n",
      "Try using .loc[row_indexer,col_indexer] = value instead\n",
      "\n",
      "See the caveats in the documentation: http://pandas.pydata.org/pandas-docs/stable/user_guide/indexing.html#returning-a-view-versus-a-copy\n",
      "  \"\"\"Entry point for launching an IPython kernel.\n",
      "/Users/kayamayajin/opt/anaconda3/lib/python3.7/site-packages/ipykernel_launcher.py:2: SettingWithCopyWarning: \n",
      "A value is trying to be set on a copy of a slice from a DataFrame.\n",
      "Try using .loc[row_indexer,col_indexer] = value instead\n",
      "\n",
      "See the caveats in the documentation: http://pandas.pydata.org/pandas-docs/stable/user_guide/indexing.html#returning-a-view-versus-a-copy\n",
      "  \n",
      "/Users/kayamayajin/opt/anaconda3/lib/python3.7/site-packages/ipykernel_launcher.py:3: SettingWithCopyWarning: \n",
      "A value is trying to be set on a copy of a slice from a DataFrame.\n",
      "Try using .loc[row_indexer,col_indexer] = value instead\n",
      "\n",
      "See the caveats in the documentation: http://pandas.pydata.org/pandas-docs/stable/user_guide/indexing.html#returning-a-view-versus-a-copy\n",
      "  This is separate from the ipykernel package so we can avoid doing imports until\n",
      "/Users/kayamayajin/opt/anaconda3/lib/python3.7/site-packages/ipykernel_launcher.py:4: SettingWithCopyWarning: \n",
      "A value is trying to be set on a copy of a slice from a DataFrame.\n",
      "Try using .loc[row_indexer,col_indexer] = value instead\n",
      "\n",
      "See the caveats in the documentation: http://pandas.pydata.org/pandas-docs/stable/user_guide/indexing.html#returning-a-view-versus-a-copy\n",
      "  after removing the cwd from sys.path.\n"
     ]
    },
    {
     "data": {
      "text/html": [
       "<div>\n",
       "<style scoped>\n",
       "    .dataframe tbody tr th:only-of-type {\n",
       "        vertical-align: middle;\n",
       "    }\n",
       "\n",
       "    .dataframe tbody tr th {\n",
       "        vertical-align: top;\n",
       "    }\n",
       "\n",
       "    .dataframe thead th {\n",
       "        text-align: right;\n",
       "    }\n",
       "</style>\n",
       "<table border=\"1\" class=\"dataframe\">\n",
       "  <thead>\n",
       "    <tr style=\"text-align: right;\">\n",
       "      <th></th>\n",
       "      <th>display_name</th>\n",
       "      <th>name</th>\n",
       "      <th>start_date</th>\n",
       "      <th>code</th>\n",
       "      <th>深圳</th>\n",
       "      <th>CODE</th>\n",
       "      <th>open</th>\n",
       "      <th>close</th>\n",
       "      <th>high</th>\n",
       "      <th>low</th>\n",
       "      <th>sun</th>\n",
       "    </tr>\n",
       "  </thead>\n",
       "  <tbody>\n",
       "    <tr>\n",
       "      <th>600918.XSHG</th>\n",
       "      <td>中泰证券</td>\n",
       "      <td>ZTZQ</td>\n",
       "      <td>2020-06-03</td>\n",
       "      <td>600918</td>\n",
       "      <td>0</td>\n",
       "      <td>600918.XSHG</td>\n",
       "      <td>5.26</td>\n",
       "      <td>6.31</td>\n",
       "      <td>6.31</td>\n",
       "      <td>5.26</td>\n",
       "      <td>1</td>\n",
       "    </tr>\n",
       "    <tr>\n",
       "      <th>600956.XSHG</th>\n",
       "      <td>新天绿能</td>\n",
       "      <td>XTLN</td>\n",
       "      <td>2020-06-29</td>\n",
       "      <td>600956</td>\n",
       "      <td>0</td>\n",
       "      <td>600956.XSHG</td>\n",
       "      <td>3.82</td>\n",
       "      <td>4.58</td>\n",
       "      <td>4.58</td>\n",
       "      <td>3.82</td>\n",
       "      <td>1</td>\n",
       "    </tr>\n",
       "    <tr>\n",
       "      <th>601399.XSHG</th>\n",
       "      <td>ST国重装</td>\n",
       "      <td>STGZZ</td>\n",
       "      <td>2020-06-08</td>\n",
       "      <td>601399</td>\n",
       "      <td>0</td>\n",
       "      <td>601399.XSHG</td>\n",
       "      <td>6.00</td>\n",
       "      <td>6.15</td>\n",
       "      <td>9.95</td>\n",
       "      <td>6.00</td>\n",
       "      <td>1</td>\n",
       "    </tr>\n",
       "    <tr>\n",
       "      <th>601456.XSHG</th>\n",
       "      <td>国联证券</td>\n",
       "      <td>GLZQ</td>\n",
       "      <td>2020-07-31</td>\n",
       "      <td>601456</td>\n",
       "      <td>0</td>\n",
       "      <td>601456.XSHG</td>\n",
       "      <td>5.10</td>\n",
       "      <td>6.12</td>\n",
       "      <td>6.12</td>\n",
       "      <td>5.10</td>\n",
       "      <td>1</td>\n",
       "    </tr>\n",
       "    <tr>\n",
       "      <th>601609.XSHG</th>\n",
       "      <td>金田铜业</td>\n",
       "      <td>JTTY</td>\n",
       "      <td>2020-04-22</td>\n",
       "      <td>601609</td>\n",
       "      <td>0</td>\n",
       "      <td>601609.XSHG</td>\n",
       "      <td>7.81</td>\n",
       "      <td>9.37</td>\n",
       "      <td>9.37</td>\n",
       "      <td>7.81</td>\n",
       "      <td>1</td>\n",
       "    </tr>\n",
       "    <tr>\n",
       "      <th>...</th>\n",
       "      <td>...</td>\n",
       "      <td>...</td>\n",
       "      <td>...</td>\n",
       "      <td>...</td>\n",
       "      <td>...</td>\n",
       "      <td>...</td>\n",
       "      <td>...</td>\n",
       "      <td>...</td>\n",
       "      <td>...</td>\n",
       "      <td>...</td>\n",
       "      <td>...</td>\n",
       "    </tr>\n",
       "    <tr>\n",
       "      <th>688596.XSHG</th>\n",
       "      <td>正帆科技</td>\n",
       "      <td>ZFKJ</td>\n",
       "      <td>2020-08-20</td>\n",
       "      <td>688596</td>\n",
       "      <td>0</td>\n",
       "      <td>688596.XSHG</td>\n",
       "      <td>39.99</td>\n",
       "      <td>33.10</td>\n",
       "      <td>39.99</td>\n",
       "      <td>31.90</td>\n",
       "      <td>0</td>\n",
       "    </tr>\n",
       "    <tr>\n",
       "      <th>688598.XSHG</th>\n",
       "      <td>金博股份</td>\n",
       "      <td>JBGF</td>\n",
       "      <td>2020-05-18</td>\n",
       "      <td>688598</td>\n",
       "      <td>0</td>\n",
       "      <td>688598.XSHG</td>\n",
       "      <td>109.73</td>\n",
       "      <td>90.71</td>\n",
       "      <td>111.62</td>\n",
       "      <td>90.66</td>\n",
       "      <td>0</td>\n",
       "    </tr>\n",
       "    <tr>\n",
       "      <th>688599.XSHG</th>\n",
       "      <td>天合光能</td>\n",
       "      <td>THGN</td>\n",
       "      <td>2020-06-10</td>\n",
       "      <td>688599</td>\n",
       "      <td>0</td>\n",
       "      <td>688599.XSHG</td>\n",
       "      <td>16.59</td>\n",
       "      <td>17.11</td>\n",
       "      <td>19.47</td>\n",
       "      <td>16.54</td>\n",
       "      <td>1</td>\n",
       "    </tr>\n",
       "    <tr>\n",
       "      <th>688600.XSHG</th>\n",
       "      <td>皖仪科技</td>\n",
       "      <td>WYKJ</td>\n",
       "      <td>2020-07-03</td>\n",
       "      <td>688600</td>\n",
       "      <td>0</td>\n",
       "      <td>688600.XSHG</td>\n",
       "      <td>35.50</td>\n",
       "      <td>35.90</td>\n",
       "      <td>40.00</td>\n",
       "      <td>35.20</td>\n",
       "      <td>1</td>\n",
       "    </tr>\n",
       "    <tr>\n",
       "      <th>688981.XSHG</th>\n",
       "      <td>中芯国际</td>\n",
       "      <td>ZXGJ</td>\n",
       "      <td>2020-07-16</td>\n",
       "      <td>688981</td>\n",
       "      <td>0</td>\n",
       "      <td>688981.XSHG</td>\n",
       "      <td>95.00</td>\n",
       "      <td>82.92</td>\n",
       "      <td>95.00</td>\n",
       "      <td>80.00</td>\n",
       "      <td>0</td>\n",
       "    </tr>\n",
       "  </tbody>\n",
       "</table>\n",
       "<p>142 rows × 11 columns</p>\n",
       "</div>"
      ],
      "text/plain": [
       "            display_name   name start_date    code  深圳         CODE    open  \\\n",
       "600918.XSHG         中泰证券   ZTZQ 2020-06-03  600918   0  600918.XSHG    5.26   \n",
       "600956.XSHG         新天绿能   XTLN 2020-06-29  600956   0  600956.XSHG    3.82   \n",
       "601399.XSHG        ST国重装  STGZZ 2020-06-08  601399   0  601399.XSHG    6.00   \n",
       "601456.XSHG         国联证券   GLZQ 2020-07-31  601456   0  601456.XSHG    5.10   \n",
       "601609.XSHG         金田铜业   JTTY 2020-04-22  601609   0  601609.XSHG    7.81   \n",
       "...                  ...    ...        ...     ...  ..          ...     ...   \n",
       "688596.XSHG         正帆科技   ZFKJ 2020-08-20  688596   0  688596.XSHG   39.99   \n",
       "688598.XSHG         金博股份   JBGF 2020-05-18  688598   0  688598.XSHG  109.73   \n",
       "688599.XSHG         天合光能   THGN 2020-06-10  688599   0  688599.XSHG   16.59   \n",
       "688600.XSHG         皖仪科技   WYKJ 2020-07-03  688600   0  688600.XSHG   35.50   \n",
       "688981.XSHG         中芯国际   ZXGJ 2020-07-16  688981   0  688981.XSHG   95.00   \n",
       "\n",
       "             close    high    low  sun  \n",
       "600918.XSHG   6.31    6.31   5.26    1  \n",
       "600956.XSHG   4.58    4.58   3.82    1  \n",
       "601399.XSHG   6.15    9.95   6.00    1  \n",
       "601456.XSHG   6.12    6.12   5.10    1  \n",
       "601609.XSHG   9.37    9.37   7.81    1  \n",
       "...            ...     ...    ...  ...  \n",
       "688596.XSHG  33.10   39.99  31.90    0  \n",
       "688598.XSHG  90.71  111.62  90.66    0  \n",
       "688599.XSHG  17.11   19.47  16.54    1  \n",
       "688600.XSHG  35.90   40.00  35.20    1  \n",
       "688981.XSHG  82.92   95.00  80.00    0  \n",
       "\n",
       "[142 rows x 11 columns]"
      ]
     },
     "execution_count": 103,
     "metadata": {},
     "output_type": "execute_result"
    }
   ],
   "source": [
    "df1['open'] = df1.apply(lambda x: open(x['CODE'],x['start_date']),axis=1)\n",
    "df1['close'] = df1.apply(lambda x: close(x['CODE'],x['start_date']),axis = 1)\n",
    "df1['high'] = df1.apply(lambda x: high(x['CODE'],x['start_date']),axis = 1)\n",
    "df1['low'] = df1.apply(lambda x: low(x['CODE'],x['start_date']),axis = 1)\n",
    "df1"
   ]
  },
  {
   "cell_type": "code",
   "execution_count": 101,
   "metadata": {},
   "outputs": [
    {
     "name": "stdout",
     "output_type": "stream",
     "text": [
      "over\n"
     ]
    },
    {
     "name": "stderr",
     "output_type": "stream",
     "text": [
      "/Users/kayamayajin/opt/anaconda3/lib/python3.7/site-packages/ipykernel_launcher.py:1: SettingWithCopyWarning: \n",
      "A value is trying to be set on a copy of a slice from a DataFrame.\n",
      "Try using .loc[row_indexer,col_indexer] = value instead\n",
      "\n",
      "See the caveats in the documentation: http://pandas.pydata.org/pandas-docs/stable/user_guide/indexing.html#returning-a-view-versus-a-copy\n",
      "  \"\"\"Entry point for launching an IPython kernel.\n"
     ]
    }
   ],
   "source": [
    "df1['sun'] = df1.apply(lambda x: 1 if x['close'] > x['open'] else 0 , axis = 1)\n",
    "df1.to_excel('/Users/kayamayajin/Desktop/output.xlsx')\n",
    "print('over')"
   ]
  },
  {
   "cell_type": "code",
   "execution_count": null,
   "metadata": {},
   "outputs": [],
   "source": []
  },
  {
   "cell_type": "code",
   "execution_count": 110,
   "metadata": {},
   "outputs": [
    {
     "data": {
      "text/plain": [
       "'AU1912.XSGE'"
      ]
     },
     "execution_count": 110,
     "metadata": {},
     "output_type": "execute_result"
    }
   ],
   "source": [
    "get_dominant_future('AU',date = '2019-08-09')"
   ]
  },
  {
   "cell_type": "code",
   "execution_count": 119,
   "metadata": {},
   "outputs": [],
   "source": [
    "def f(x):\n",
    "    a = x+x*x+x*x*x+x*x*x*x\n",
    "    return(a)"
   ]
  },
  {
   "cell_type": "code",
   "execution_count": 120,
   "metadata": {},
   "outputs": [
    {
     "data": {
      "text/plain": [
       "16136436626340"
      ]
     },
     "execution_count": 120,
     "metadata": {},
     "output_type": "execute_result"
    }
   ],
   "source": [
    "f(2004)"
   ]
  },
  {
   "cell_type": "code",
   "execution_count": 121,
   "metadata": {},
   "outputs": [
    {
     "data": {
      "text/plain": [
       "16168665172780"
      ]
     },
     "execution_count": 121,
     "metadata": {},
     "output_type": "execute_result"
    }
   ],
   "source": [
    "f(2005)"
   ]
  },
  {
   "cell_type": "code",
   "execution_count": 122,
   "metadata": {},
   "outputs": [
    {
     "data": {
      "text/plain": [
       "0.9980067280696581"
      ]
     },
     "execution_count": 122,
     "metadata": {},
     "output_type": "execute_result"
    }
   ],
   "source": [
    "f(2004)/f(2005)"
   ]
  }
 ],
 "metadata": {
  "kernelspec": {
   "display_name": "Python 3",
   "language": "python",
   "name": "python3"
  },
  "language_info": {
   "codemirror_mode": {
    "name": "ipython",
    "version": 3
   },
   "file_extension": ".py",
   "mimetype": "text/x-python",
   "name": "python",
   "nbconvert_exporter": "python",
   "pygments_lexer": "ipython3",
   "version": "3.7.4"
  }
 },
 "nbformat": 4,
 "nbformat_minor": 4
}
